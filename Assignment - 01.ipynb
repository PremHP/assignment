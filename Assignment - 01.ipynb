{
 "cells": [
  {
   "cell_type": "code",
   "execution_count": null,
   "id": "8598aaeb",
   "metadata": {},
   "outputs": [
    {
     "name": "stdout",
     "output_type": "stream",
     "text": [
      "♜ ♞ ♝ ♛ ♚ ♝ ♞ ♜\n",
      "♟ ♟ ♟ ♟ ♟ ♟ ♟ ♟\n",
      "               \n",
      "               \n",
      "               \n",
      "               \n",
      "♙ ♙ ♙ ♙ ♙ ♙ ♙ ♙\n",
      "♖ ♘ ♗ ♕ ♔ ♗ ♘ ♖\n",
      "\n",
      "Enter the starting square:a2\n",
      "Enter the target square:a4\n",
      "♜ ♞ ♝ ♛ ♚ ♝ ♞ ♜\n",
      "  ♟ ♟ ♟ ♟ ♟ ♟ ♟\n",
      "               \n",
      "♟              \n",
      "               \n",
      "               \n",
      "♙ ♙ ♙ ♙ ♙ ♙ ♙ ♙\n",
      "♖ ♘ ♗ ♕ ♔ ♗ ♘ ♖\n",
      "\n"
     ]
    }
   ],
   "source": [
    "def print_board(board):\n",
    "    for row in board:\n",
    "        print(' '.join(row))\n",
    "    print()\n",
    "\n",
    "def is_valid_move(board, from_pos, to_pos):\n",
    "    if not (0 <= from_pos[0] < 8 and 0 <= from_pos[1] < 8 and 0 <= to_pos[0] < 8 and 0 <= to_pos[1] < 8):\n",
    "        return False\n",
    "\n",
    "    from_piece = board[from_pos[0]][from_pos[1]]\n",
    "    to_piece = board[to_pos[0]][to_pos[1]]\n",
    "\n",
    "    if from_piece == ' ':\n",
    "        return False\n",
    "\n",
    "    # You can add more rules for valid moves here\n",
    "    return True\n",
    "\n",
    "def move_piece(board, from_pos, to_pos):\n",
    "    piece = board[from_pos[0]][from_pos[1]]\n",
    "    board[from_pos[0]][from_pos[1]] = ' '\n",
    "    board[to_pos[0]][to_pos[1]] = piece\n",
    "\n",
    "\n",
    "chessboard = [\n",
    "    ['♜','♞','♝','♛','♚','♝','♞','♜'],\n",
    "    ['♟','♟','♟','♟','♟','♟','♟','♟'],\n",
    "    [' ', ' ', ' ', ' ', ' ', ' ', ' ', ' '],\n",
    "    [' ', ' ', ' ', ' ', ' ', ' ', ' ', ' '],\n",
    "    [' ', ' ', ' ', ' ', ' ', ' ', ' ', ' '],\n",
    "    [' ', ' ', ' ', ' ', ' ', ' ', ' ', ' '],\n",
    "    ['♙', '♙', '♙', '♙', '♙', '♙', '♙', '♙'],\n",
    "    ['♖', '♘', '♗', '♕', '♔', '♗', '♘', '♖']\n",
    "]\n",
    "\n",
    "\n",
    "while True:\n",
    "    print_board(chessboard)\n",
    "    from_square = input(\"Enter the starting square:\")\n",
    "    to_square = input(\"Enter the target square:\")\n",
    "\n",
    "    from_pos = (int(from_square[1]) - 1, ord(from_square[0]) - ord('a'))\n",
    "    to_pos = (int(to_square[1]) - 1, ord(to_square[0]) - ord('a'))\n",
    "\n",
    "    if is_valid_move(chessboard, from_pos, to_pos):\n",
    "        move_piece(chessboard, from_pos, to_pos)\n",
    "    else:\n",
    "        print(\"Invalid move!\")"
   ]
  },
  {
   "cell_type": "code",
   "execution_count": null,
   "id": "997127b0",
   "metadata": {},
   "outputs": [],
   "source": []
  }
 ],
 "metadata": {
  "kernelspec": {
   "display_name": "Python 3 (ipykernel)",
   "language": "python",
   "name": "python3"
  },
  "language_info": {
   "codemirror_mode": {
    "name": "ipython",
    "version": 3
   },
   "file_extension": ".py",
   "mimetype": "text/x-python",
   "name": "python",
   "nbconvert_exporter": "python",
   "pygments_lexer": "ipython3",
   "version": "3.11.4"
  }
 },
 "nbformat": 4,
 "nbformat_minor": 5
}
