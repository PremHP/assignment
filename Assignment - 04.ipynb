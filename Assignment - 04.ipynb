{
 "cells": [
  {
   "cell_type": "code",
   "execution_count": 1,
   "id": "3d285788",
   "metadata": {},
   "outputs": [],
   "source": []
  },
  {
   "cell_type": "code",
   "execution_count": 2,
   "id": "f6342b59",
   "metadata": {},
   "outputs": [
    {
     "data": {
      "text/plain": [
       "'Hii'"
      ]
     },
     "execution_count": 2,
     "metadata": {},
     "output_type": "execute_result"
    }
   ],
   "source": [
    "\"Hii\""
   ]
  },
  {
   "cell_type": "code",
   "execution_count": 3,
   "id": "c9eb8b0d",
   "metadata": {},
   "outputs": [
    {
     "name": "stdout",
     "output_type": "stream",
     "text": [
      "8\n"
     ]
    }
   ],
   "source": [
    "a=4\n",
    "b=4\n",
    "c=a+b\n",
    "print(c)"
   ]
  },
  {
   "cell_type": "code",
   "execution_count": 2,
   "id": "fb2f9b0c",
   "metadata": {},
   "outputs": [
    {
     "name": "stdout",
     "output_type": "stream",
     "text": [
      "[[-1.41421356]\n",
      " [-0.70710678]\n",
      " [ 0.        ]\n",
      " [ 0.70710678]\n",
      " [ 1.41421356]]\n"
     ]
    }
   ],
   "source": [
    "from sklearn.preprocessing import StandardScaler\n",
    "\n",
    "# Sample data\n",
    "data = [[1.0], [2.0], [3.0], [4.0], [5.0]]\n",
    "\n",
    "# Create a StandardScaler\n",
    "scaler = StandardScaler()\n",
    "\n",
    "# Fit and transform the data\n",
    "standardized_data = scaler.fit_transform(data)\n",
    "\n",
    "# Standardized data will have mean 0 and standard deviation 1\n",
    "print(standardized_data)\n"
   ]
  },
  {
   "cell_type": "code",
   "execution_count": 3,
   "id": "56e6128e",
   "metadata": {},
   "outputs": [
    {
     "name": "stdout",
     "output_type": "stream",
     "text": [
      "        Age    Income\n",
      "0  0.230769  0.166667\n",
      "1  0.615385  0.500000\n",
      "2  1.000000  1.000000\n",
      "3  0.000000  0.000000\n",
      "4  0.461538  0.833333\n"
     ]
    }
   ],
   "source": [
    "#Min-Max Scaling (Normalization):\n",
    "import pandas as pd\n",
    "from sklearn.preprocessing import MinMaxScaler\n",
    "\n",
    "# Sample data (replace this with your dataset)\n",
    "data = pd.DataFrame({\n",
    "    'Age': [25, 30, 35, 22, 28],\n",
    "    'Income': [50000, 60000, 75000, 45000, 70000]\n",
    "})\n",
    "\n",
    "# Initialize the MinMaxScaler\n",
    "scaler = MinMaxScaler()\n",
    "\n",
    "# Fit and transform the data\n",
    "data_scaled = scaler.fit_transform(data)\n",
    "\n",
    "# Convert the scaled data back to a DataFrame (optional)\n",
    "data_normalized = pd.DataFrame(data_scaled, columns=data.columns)\n",
    "\n",
    "print(data_normalized)\n"
   ]
  },
  {
   "cell_type": "code",
   "execution_count": 4,
   "id": "e166dd6a",
   "metadata": {},
   "outputs": [
    {
     "name": "stdout",
     "output_type": "stream",
     "text": [
      "        Age    Income\n",
      "0 -0.677631 -0.877058\n",
      "1  0.451754  0.000000\n",
      "2  1.581139  1.315587\n",
      "3 -1.355262 -1.315587\n",
      "4  0.000000  0.877058\n"
     ]
    }
   ],
   "source": [
    "#Z-Score Scaling (Standardization):-\n",
    "import pandas as pd\n",
    "from sklearn.preprocessing import StandardScaler\n",
    "\n",
    "# Sample data (replace this with your dataset)\n",
    "data = pd.DataFrame({\n",
    "    'Age': [25, 30, 35, 22, 28],\n",
    "    'Income': [50000, 60000, 75000, 45000, 70000]\n",
    "})\n",
    "\n",
    "# Initialize the StandardScaler\n",
    "scaler = StandardScaler()\n",
    "\n",
    "# Fit and transform the data\n",
    "data_scaled = scaler.fit_transform(data)\n",
    "\n",
    "# Convert the scaled data back to a DataFrame (optional)\n",
    "data_standardized = pd.DataFrame(data_scaled, columns=data.columns)\n",
    "\n",
    "print(data_standardized)\n"
   ]
  },
  {
   "cell_type": "code",
   "execution_count": 5,
   "id": "c301b84a",
   "metadata": {},
   "outputs": [],
   "source": [
    "#ENCODING:-\n",
    "import pandas as pd\n",
    "from sklearn.preprocessing import LabelEncoder\n",
    "\n",
    "#Sample data with a 'Color' column as a categorical feature\n",
    "data = pd.DataFrame({'Color': ['Red', 'Green', 'Blue', 'Red', 'Green']})\n",
    "\n",
    "#Create a LabelEncoder\n",
    "label_encoder = LabelEncoder()\n",
    "\n",
    "#Apply Label Encoding to the 'Color' column\n",
    "data['Color_encoded'] = label_encoder.fit_transform(data['Color'])\n"
   ]
  },
  {
   "cell_type": "code",
   "execution_count": null,
   "id": "499ce4d4",
   "metadata": {},
   "outputs": [],
   "source": []
  }
 ],
 "metadata": {
  "kernelspec": {
   "display_name": "Python 3 (ipykernel)",
   "language": "python",
   "name": "python3"
  },
  "language_info": {
   "codemirror_mode": {
    "name": "ipython",
    "version": 3
   },
   "file_extension": ".py",
   "mimetype": "text/x-python",
   "name": "python",
   "nbconvert_exporter": "python",
   "pygments_lexer": "ipython3",
   "version": "3.11.4"
  }
 },
 "nbformat": 4,
 "nbformat_minor": 5
}
