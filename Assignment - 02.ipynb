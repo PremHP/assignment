{
 "cells": [
  {
   "cell_type": "code",
   "execution_count": 1,
   "id": "5e1b5063",
   "metadata": {},
   "outputs": [],
   "source": [
    "    Title:Sustainable Water Management project\n",
    "    Aim:The aim of this project is to ensure the responsible and efficient use of water resource to meet the present and \n",
    "    future need of the communit while sfeguarking the environment\n",
    "    Objectives:1.To access the current state of water resourses within region.\n",
    "               2.To development and implement sustainable water conservtion and purification techniques.\n",
    "               3.To promote cummity avareness and engagement in water management practice.\n",
    "               4.To establish a resilient water infrastructure to withstand climate change and natural disasters.\n",
    "Project Vision:Our vision is to create a future where clean and accessable water is availale to all,while preserving and \n",
    "               enancing the natural ecosystems\n",
    "Project Mission:We are cummited to achiving our vision by conducting to research,implementing innvating water management \n",
    "                selutions\n"
   ]
  },
  {
   "cell_type": "code",
   "execution_count": 4,
   "id": "087751e5",
   "metadata": {},
   "outputs": [
    {
     "data": {
      "text/plain": [
       "0         T\n",
       "1        pH\n",
       "2        EC\n",
       "3       Na+\n",
       "4      Ca2+\n",
       "       ... \n",
       "395    Zn2+\n",
       "396    Al3+\n",
       "397    Pb2+\n",
       "398    Cu2+\n",
       "399    Cd2+\n",
       "Length: 400, dtype: object"
      ]
     },
     "execution_count": 4,
     "metadata": {},
     "output_type": "execute_result"
    }
   ],
   "source": [
    "import pandas as pd\n",
    "Parameters=pd.Series([\"T\",\"pH\",\"EC\",\"Na+\",\"Ca2+\",\"Mg2+\",\"K+\",\"Hco+\",\"Cl-\",\"So2-\",\"No-3\",\"TDS\",\"TH\",\"Fe2+\",\"N2+\",\"Zn2+\",\"Al3+\",\"Pb2+\",\"Cu2+\",\"Cd2+\",\"T\",\"pH\",\"EC\",\"Na+\",\"Ca2+\",\"Mg2+\",\"K+\",\"Hco+\",\"Cl-\",\"So2-\",\"No-3\",\"TDS\",\"TH\",\"Fe2+\",\"N2+\",\"Zn2+\",\"Al3+\",\"Pb2+\",\"Cu2+\",\"Cd2+\",\"T\",\"pH\",\"EC\",\"Na+\",\"Ca2+\",\"Mg2+\",\"K+\",\"Hco+\",\"Cl-\",\"So2-\",\"No-3\",\"TDS\",\"TH\",\"Fe2+\",\"N2+\",\"Zn2+\",\"Al3+\",\"Pb2+\",\"Cu2+\",\"Cd2+\",\"T\",\"pH\",\"EC\",\"Na+\",\"Ca2+\",\"Mg2+\",\"K+\",\"Hco+\",\"Cl-\",\"So2-\",\"No-3\",\"TDS\",\"TH\",\"Fe2+\",\"N2+\",\"Zn2+\",\"Al3+\",\"Pb2+\",\"Cu2+\",\"Cd2+\",\"T\",\"pH\",\"EC\",\"Na+\",\"Ca2+\",\"Mg2+\",\"K+\",\"Hco+\",\"Cl-\",\"So2-\",\"No-3\",\"TDS\",\"TH\",\"Fe2+\",\"N2+\",\"Zn2+\",\"Al3+\",\"Pb2+\",\"Cu2+\",\"Cd2+\",\"T\",\"pH\",\"EC\",\"Na+\",\"Ca2+\",\"Mg2+\",\"K+\",\"Hco+\",\"Cl-\",\"So2-\",\"No-3\",\"TDS\",\"TH\",\"Fe2+\",\"N2+\",\"Zn2+\",\"Al3+\",\"Pb2+\",\"Cu2+\",\"Cd2+\",\"T\",\"pH\",\"EC\",\"Na+\",\"Ca2+\",\"Mg2+\",\"K+\",\"Hco+\",\"Cl-\",\"So2-\",\"No-3\",\"TDS\",\"TH\",\"Fe2+\",\"N2+\",\"Zn2+\",\"Al3+\",\"Pb2+\",\"Cu2+\",\"Cd2+\",\"T\",\"pH\",\"EC\",\"Na+\",\"Ca2+\",\"Mg2+\",\"K+\",\"Hco+\",\"Cl-\",\"So2-\",\"No-3\",\"TDS\",\"TH\",\"Fe2+\",\"N2+\",\"Zn2+\",\"Al3+\",\"Pb2+\",\"Cu2+\",\"Cd2+\",\"T\",\"pH\",\"EC\",\"Na+\",\"Ca2+\",\"Mg2+\",\"K+\",\"Hco+\",\"Cl-\",\"So2-\",\"No-3\",\"TDS\",\"TH\",\"Fe2+\",\"N2+\",\"Zn2+\",\"Al3+\",\"Pb2+\",\"Cu2+\",\"Cd2+\",\"T\",\"pH\",\"EC\",\"Na+\",\"Ca2+\",\"Mg2+\",\"K+\",\"Hco+\",\"Cl-\",\"So2-\",\"No-3\",\"TDS\",\"TH\",\"Fe2+\",\"N2+\",\"Zn2+\",\"Al3+\",\"Pb2+\",\"Cu2+\",\"Cd2+\",\"T\",\"pH\",\"EC\",\"Na+\",\"Ca2+\",\"Mg2+\",\"K+\",\"Hco+\",\"Cl-\",\"So2-\",\"No-3\",\"TDS\",\"TH\",\"Fe2+\",\"N2+\",\"Zn2+\",\"Al3+\",\"Pb2+\",\"Cu2+\",\"Cd2+\",\"T\",\"pH\",\"EC\",\"Na+\",\"Ca2+\",\"Mg2+\",\"K+\",\"Hco+\",\"Cl-\",\"So2-\",\"No-3\",\"TDS\",\"TH\",\"Fe2+\",\"N2+\",\"Zn2+\",\"Al3+\",\"Pb2+\",\"Cu2+\",\"Cd2+\",\"T\",\"pH\",\"EC\",\"Na+\",\"Ca2+\",\"Mg2+\",\"K+\",\"Hco+\",\"Cl-\",\"So2-\",\"No-3\",\"TDS\",\"TH\",\"Fe2+\",\"N2+\",\"Zn2+\",\"Al3+\",\"Pb2+\",\"Cu2+\",\"Cd2+\",\"T\",\"pH\",\"EC\",\"Na+\",\"Ca2+\",\"Mg2+\",\"K+\",\"Hco+\",\"Cl-\",\"So2-\",\"No-3\",\"TDS\",\"TH\",\"Fe2+\",\"N2+\",\"Zn2+\",\"Al3+\",\"Pb2+\",\"Cu2+\",\"Cd2+\",\"T\",\"pH\",\"EC\",\"Na+\",\"Ca2+\",\"Mg2+\",\"K+\",\"Hco+\",\"Cl-\",\"So2-\",\"No-3\",\"TDS\",\"TH\",\"Fe2+\",\"N2+\",\"Zn2+\",\"Al3+\",\"Pb2+\",\"Cu2+\",\"Cd2+\",\"T\",\"pH\",\"EC\",\"Na+\",\"Ca2+\",\"Mg2+\",\"K+\",\"Hco+\",\"Cl-\",\"So2-\",\"No-3\",\"TDS\",\"TH\",\"Fe2+\",\"N2+\",\"Zn2+\",\"Al3+\",\"Pb2+\",\"Cu2+\",\"Cd2+\",\"T\",\"pH\",\"EC\",\"Na+\",\"Ca2+\",\"Mg2+\",\"K+\",\"Hco+\",\"Cl-\",\"So2-\",\"No-3\",\"TDS\",\"TH\",\"Fe2+\",\"N2+\",\"Zn2+\",\"Al3+\",\"Pb2+\",\"Cu2+\",\"Cd2+\",\"T\",\"pH\",\"EC\",\"Na+\",\"Ca2+\",\"Mg2+\",\"K+\",\"Hco+\",\"Cl-\",\"So2-\",\"No-3\",\"TDS\",\"TH\",\"Fe2+\",\"N2+\",\"Zn2+\",\"Al3+\",\"Pb2+\",\"Cu2+\",\"Cd2+\",\"T\",\"pH\",\"EC\",\"Na+\",\"Ca2+\",\"Mg2+\",\"K+\",\"Hco+\",\"Cl-\",\"So2-\",\"No-3\",\"TDS\",\"TH\",\"Fe2+\",\"N2+\",\"Zn2+\",\"Al3+\",\"Pb2+\",\"Cu2+\",\"Cd2+\",\"T\",\"pH\",\"EC\",\"Na+\",\"Ca2+\",\"Mg2+\",\"K+\",\"Hco+\",\"Cl-\",\"So2-\",\"No-3\",\"TDS\",\"TH\",\"Fe2+\",\"N2+\",\"Zn2+\",\"Al3+\",\"Pb2+\",\"Cu2+\",\"Cd2+\"])\n",
    "Parameters\n"
   ]
  },
  {
   "cell_type": "code",
   "execution_count": null,
   "id": "f4435f39",
   "metadata": {},
   "outputs": [],
   "source": []
  },
  {
   "cell_type": "code",
   "execution_count": 22,
   "id": "59dcf34e",
   "metadata": {},
   "outputs": [
    {
     "data": {
      "text/plain": [
       "0         *C\n",
       "1         es\n",
       "2      us/cm\n",
       "3       mg/l\n",
       "4       mg/l\n",
       "       ...  \n",
       "395     mg/l\n",
       "396     mg/l\n",
       "397     mg/l\n",
       "398     mg/l\n",
       "399     mg/l\n",
       "Length: 400, dtype: object"
      ]
     },
     "execution_count": 22,
     "metadata": {},
     "output_type": "execute_result"
    }
   ],
   "source": [
    "Units=pd.Series([\"*C\",\"es\",\"us/cm\",\"mg/l\",\"mg/l\",\"mg/l\",\"mg/l\",\"mg/l\",\"mg/l\",\"mg/l\",\"mg/l\",\"mg/l\",\"mg/l\",\"mg/l\",\"mg/l\",\"mg/l\",\"mg/l\",\"mg/l\",\"mg/l\",\"mg/l\",\"mg/l\",\"mg/l\",\"mg/l\",\"mg/l\",\"mg/l\",\"mg/l\",\"mg/l\",\"mg/l\",\"mg/l\",\"mg/l\",\"mg/l\",\"mg/l\",\"mg/l\",\"mg/l\",\"mg/l\",\"mg/l\",\"mg/l\",\"mg/l\",\"mg/l\",\"mg/l\",\"mg/l\",\"mg/l\",\"mg/l\",\"mg/l\",\"mg/l\",\"mg/l\",\"mg/l\",\"mg/l\",\"mg/l\",\"mg/l\",\"mg/l\",\"mg/l\",\"mg/l\",\"mg/l\",\"mg/l\",\"mg/l\",\"mg/l\",\"mg/l\",\"mg/l\",\"mg/l\",\"mg/l\",\"mg/l\",\"mg/l\",\"mg/l\",\"mg/l\",\"mg/l\",\"mg/l\",\"mg/l\",\"mg/l\",\"mg/l\",\"mg/l\",\"mg/l\",\"mg/l\",\"mg/l\",\"mg/l\",\"mg/l\",\"mg/l\",\"mg/l\",\"mg/l\",\"mg/l\",\"mg/l\",\"mg/l\",\"mg/l\",\"mg/l\",\"mg/l\",\"mg/l\",\"mg/l\",\"mg/l\",\"mg/l\",\"mg/l\",\"mg/l\",\"mg/l\",\"mg/l\",\"mg/l\",\"mg/l\",\"mg/l\",\"mg/l\",\"mg/l\",\"mg/l\",\"mg/l\",\"mg/l\",\"mg/l\",\"mg/l\",\"mg/l\",\"mg/l\",\"mg/l\",\"mg/l\",\"mg/l\",\"mg/l\",\"mg/l\",\"mg/l\",\"mg/l\",\"mg/l\",\"mg/l\",\"mg/l\",\"mg/l\",\"mg/l\",\"mg/l\",\"mg/l\",\"mg/l\",\"mg/l\",\"mg/l\",\"mg/l\",\"mg/l\",\"mg/l\",\"mg/l\",\"mg/l\",\"mg/l\",\"mg/l\",\"mg/l\",\"mg/l\",\"mg/l\",\"mg/l\",\"mg/l\",\"mg/l\",\"mg/l\",\"mg/l\",\"mg/l\",\"mg/l\",\"mg/l\",\"mg/l\",\"mg/l\",\"mg/l\",\"mg/l\",\"mg/l\",\"mg/l\",\"mg/l\",\"mg/l\",\"mg/l\",\"mg/l\",\"mg/l\",\"mg/l\",\"mg/l\",\"mg/l\",\"mg/l\",\"mg/l\",\"mg/l\",\"mg/l\",\"mg/l\",\"mg/l\",\"mg/l\",\"mg/l\",\"mg/l\",\"mg/l\",\"mg/l\",\"mg/l\",\"mg/l\",\"mg/l\",\"mg/l\",\"mg/l\",\"mg/l\",\"mg/l\",\"mg/l\",\"mg/l\",\"mg/l\",\"mg/l\",\"mg/l\",\"mg/l\",\"mg/l\",\"mg/l\",\"mg/l\",\"mg/l\",\"mg/l\",\"mg/l\",\"mg/l\",\"mg/l\",\"mg/l\",\"mg/l\",\"mg/l\",\"mg/l\",\"mg/l\",\"mg/l\",\"mg/l\",\"mg/l\",\"mg/l\",\"mg/l\",\"mg/l\",\"mg/l\",\"mg/l\",\"mg/l\",\"mg/l\",\"mg/l\",\"mg/l\",\"mg/l\",\"mg/l\",\"mg/l\",\"mg/l\",\"mg/l\",\"mg/l\",\"mg/l\",\"mg/l\",\"mg/l\",\"mg/l\",\"mg/l\",\"mg/l\",\"mg/l\",\"mg/l\",\"mg/l\",\"mg/l\",\"mg/l\",\"mg/l\",\"mg/l\",\"mg/l\",\"mg/l\",\"mg/l\",\"mg/l\",\"mg/l\",\"mg/l\",\"mg/l\",\"mg/l\",\"mg/l\",\"mg/l\",\"mg/l\",\"mg/l\",\"mg/l\",\"mg/l\",\"mg/l\",\"mg/l\",\"mg/l\",\"mg/l\",\"mg/l\",\"mg/l\",\"mg/l\",\"mg/l\",\"mg/l\",\"mg/l\",\"mg/l\",\"mg/l\",\"mg/l\",\"mg/l\",\"mg/l\",\"mg/l\",\"mg/l\",\"mg/l\",\"mg/l\",\"mg/l\",\"mg/l\",\"mg/l\",\"mg/l\",\"mg/l\",\"mg/l\",\"mg/l\",\"mg/l\",\"mg/l\",\"mg/l\",\"mg/l\",\"mg/l\",\"mg/l\",\"mg/l\",\"mg/l\",\"mg/l\",\"mg/l\",\"mg/l\",\"mg/l\",\"mg/l\",\"mg/l\",\"mg/l\",\"mg/l\",\"mg/l\",\"mg/l\",\"mg/l\",\"mg/l\",\"mg/l\",\"mg/l\",\"mg/l\",\"mg/l\",\"mg/l\",\"mg/l\",\"mg/l\",\"mg/l\",\"mg/l\",\"mg/l\",\"mg/l\",\"mg/l\",\"mg/l\",\"mg/l\",\"mg/l\",\"mg/l\",\"mg/l\",\"mg/l\",\"mg/l\",\"mg/l\",\"mg/l\",\"mg/l\",\"mg/l\",\"mg/l\",\"mg/l\",\"mg/l\",\"mg/l\",\"mg/l\",\"mg/l\",\"mg/l\",\"mg/l\",\"mg/l\",\"mg/l\",\"mg/l\",\"mg/l\",\"mg/l\",\"mg/l\",\"mg/l\",\"mg/l\",\"mg/l\",\"mg/l\",\"mg/l\",\"mg/l\",\"mg/l\",\"mg/l\",\"mg/l\",\"mg/l\",\"mg/l\",\"mg/l\",\"mg/l\",\"mg/l\",\"mg/l\",\"mg/l\",\"mg/l\",\"mg/l\",\"mg/l\",\"mg/l\",\"mg/l\",\"mg/l\",\"mg/l\",\"mg/l\",\"mg/l\",\"mg/l\",\"mg/l\",\"mg/l\",\"mg/l\",\"mg/l\",\"mg/l\",\"mg/l\",\"mg/l\",\"mg/l\",\"mg/l\",\"mg/l\",\"mg/l\",\"mg/l\",\"mg/l\",\"mg/l\",\"mg/l\",\"mg/l\",\"mg/l\",\"mg/l\",\"mg/l\",\"mg/l\",\"mg/l\",\"mg/l\",\"mg/l\",\"mg/l\",\"mg/l\",\"mg/l\",\"mg/l\",\"mg/l\",\"mg/l\",\"mg/l\",\"mg/l\",\"mg/l\",\"mg/l\",\"mg/l\",\"mg/l\",\"mg/l\",\"mg/l\",\"mg/l\",\"mg/l\",\"mg/l\",\"mg/l\",\"mg/l\",\"mg/l\",\"mg/l\",\"mg/l\",\"mg/l\",\"mg/l\",\"mg/l\",\"mg/l\",\"mg/l\",\"mg/l\",\"mg/l\",\"mg/l\",\"mg/l\",\"mg/l\"])\n",
    "Units"
   ]
  },
  {
   "cell_type": "code",
   "execution_count": null,
   "id": "b0a832b8",
   "metadata": {},
   "outputs": [],
   "source": []
  },
  {
   "cell_type": "code",
   "execution_count": null,
   "id": "3df14214",
   "metadata": {},
   "outputs": [],
   "source": []
  },
  {
   "cell_type": "code",
   "execution_count": 38,
   "id": "0287b4ec",
   "metadata": {},
   "outputs": [
    {
     "data": {
      "text/plain": [
       "0         12-25\n",
       "1      6.50-9,0\n",
       "2            22\n",
       "3       200-400\n",
       "4        75-200\n",
       "         ...   \n",
       "395          22\n",
       "396     200-400\n",
       "397      75-200\n",
       "398      50-150\n",
       "399       10-50\n",
       "Length: 400, dtype: object"
      ]
     },
     "execution_count": 38,
     "metadata": {},
     "output_type": "execute_result"
    }
   ],
   "source": [
    "Jordanian_standards=pd.Series([\"12-25\",\"6.50-9,0\",\"22\",\"200-400\",\"75-200\",\"10-50\",\"200-500\",\"70\",\"500-1500\",\"500\",\"0.3-1.0\",\"5-15\",\"0.2-03\",'0.05',\"43-65\",\"28-44\",\"6.50-9,0\",\"22\",\"200-400\",\"75-200\",\"50-150\",\"10-50\",\"6.50-9,0\",\"22\",\"200-400\",\"75-200\",\"50-150\",\"10-50\",\"6.50-9,0\",\"22\",\"200-400\",\"75-200\",\"50-150\",\"10-50\",\"6.50-9,0\",\"22\",\"200-400\",\"75-200\",\"50-150\",\"10-50\",\"6.50-9,0\",\"22\",\"200-400\",\"75-200\",\"50-150\",\"10-50\",\"6.50-9,0\",\"22\",\"200-400\",\"75-200\",\"50-150\",\"10-50\",\"6.50-9,0\",\"22\",\"200-400\",\"75-200\",\"50-150\",\"10-50\",\"6.50-9,0\",\"22\",\"200-400\",\"75-200\",\"50-150\",\"10-50\",\"6.50-9,0\",\"22\",\"200-400\",\"75-200\",\"50-150\",\"10-50\",\"6.50-9,0\",\"22\",\"200-400\",\"75-200\",\"50-150\",\"10-50\",\"6.50-9,0\",\"22\",\"200-400\",\"75-200\",\"50-150\",\"10-50\",\"6.50-9,0\",\"22\",\"200-400\",\"75-200\",\"50-150\",\"10-50\",\"6.50-9,0\",\"22\",\"200-400\",\"75-200\",\"50-150\",\"10-50\",\"6.50-9,0\",\"22\",\"200-400\",\"75-200\",\"50-150\",\"10-50\",\"6.50-9,0\",\"22\",\"200-400\",\"75-200\",\"50-150\",\"10-50\",\"6.50-9,0\",\"22\",\"200-400\",\"75-200\",\"50-150\",\"10-50\",\"6.50-9,0\",\"22\",\"200-400\",\"75-200\",\"50-150\",\"10-50\",\"6.50-9,0\",\"22\",\"200-400\",\"75-200\",\"50-150\",\"10-50\",\"6.50-9,0\",\"22\",\"200-400\",\"75-200\",\"50-150\",\"10-50\",\"6.50-9,0\",\"22\",\"200-400\",\"75-200\",\"50-150\",\"10-50\",\"6.50-9,0\",\"22\",\"200-400\",\"75-200\",\"50-150\",\"10-50\",\"6.50-9,0\",\"22\",\"200-400\",\"75-200\",\"50-150\",\"10-50\",\"6.50-9,0\",\"22\",\"200-400\",\"75-200\",\"50-150\",\"10-50\",\"6.50-9,0\",\"22\",\"200-400\",\"75-200\",\"50-150\",\"10-50\",\"6.50-9,0\",\"22\",\"200-400\",\"75-200\",\"50-150\",\"10-50\",\"6.50-9,0\",\"22\",\"200-400\",\"75-200\",\"50-150\",\"10-50\",\"6.50-9,0\",\"22\",\"200-400\",\"75-200\",\"50-150\",\"10-50\",\"6.50-9,0\",\"22\",\"200-400\",\"75-200\",\"50-150\",\"10-50\",\"6.50-9,0\",\"22\",\"200-400\",\"75-200\",\"50-150\",\"10-50\",\"6.50-9,0\",\"22\",\"200-400\",\"75-200\",\"50-150\",\"10-50\",\"6.50-9,0\",\"22\",\"200-400\",\"75-200\",\"50-150\",\"10-50\",\"6.50-9,0\",\"22\",\"200-400\",\"75-200\",\"50-150\",\"10-50\",\"6.50-9,0\",\"22\",\"200-400\",\"75-200\",\"50-150\",\"10-50\",\"6.50-9,0\",\"22\",\"200-400\",\"75-200\",\"50-150\",\"10-50\",\"6.50-9,0\",\"22\",\"200-400\",\"75-200\",\"50-150\",\"10-50\",\"6.50-9,0\",\"22\",\"200-400\",\"75-200\",\"50-150\",\"10-50\",\"6.50-9,0\",\"22\",\"200-400\",\"75-200\",\"50-150\",\"10-50\",\"6.50-9,0\",\"22\",\"200-400\",\"75-200\",\"50-150\",\"10-50\",\"6.50-9,0\",\"22\",\"200-400\",\"75-200\",\"50-150\",\"10-50\",\"6.50-9,0\",\"22\",\"200-400\",\"75-200\",\"50-150\",\"10-50\",\"6.50-9,0\",\"22\",\"200-400\",\"75-200\",\"50-150\",\"10-50\",\"6.50-9,0\",\"22\",\"200-400\",\"75-200\",\"50-150\",\"10-50\",\"6.50-9,0\",\"22\",\"200-400\",\"75-200\",\"50-150\",\"10-50\",\"6.50-9,0\",\"22\",\"200-400\",\"75-200\",\"50-150\",\"10-50\",\"6.50-9,0\",\"22\",\"200-400\",\"75-200\",\"50-150\",\"10-50\",\"6.50-9,0\",\"22\",\"200-400\",\"75-200\",\"50-150\",\"10-50\",\"6.50-9,0\",\"22\",\"200-400\",\"75-200\",\"50-150\",\"10-50\",\"6.50-9,0\",\"22\",\"200-400\",\"75-200\",\"50-150\",\"10-50\",\"6.50-9,0\",\"22\",\"200-400\",\"75-200\",\"50-150\",\"10-50\",\"6.50-9,0\",\"22\",\"200-400\",\"75-200\",\"50-150\",\"10-50\",\"6.50-9,0\",\"22\",\"200-400\",\"75-200\",\"50-150\",\"10-50\",\"6.50-9,0\",\"22\",\"200-400\",\"75-200\",\"50-150\",\"10-50\",\"6.50-9,0\",\"22\",\"200-400\",\"75-200\",\"50-150\",\"10-50\",\"6.50-9,0\",\"22\",\"200-400\",\"75-200\",\"50-150\",\"10-50\",\"6.50-9,0\",\"22\",\"200-400\",\"75-200\",\"50-150\",\"10-50\",\"6.50-9,0\",\"22\",\"200-400\",\"75-200\",\"50-150\",\"10-50\",\"6.50-9,0\",\"22\",\"200-400\",\"75-200\",\"50-150\",\"10-50\",\"6.50-9,0\",\"22\",\"200-400\",\"75-200\",\"50-150\",\"10-50\",\"6.50-9,0\",\"22\",\"200-400\",\"75-200\",\"50-150\",\"10-50\",\"6.50-9,0\",\"22\",\"200-400\",\"75-200\",\"50-150\",\"10-50\",\"6.50-9,0\",\"22\",\"200-400\",\"75-200\",\"50-150\",\"10-50\",\"6.50-9,0\",\"22\",\"200-400\",\"75-200\",\"50-150\",\"10-50\",\"6.50-9,0\",\"22\",\"200-400\",\"75-200\",\"50-150\",\"10-50\",\"6.50-9,0\",\"22\",\"200-400\",\"75-200\",\"50-150\",\"10-50\"])\n",
    "Jordanian_standards"
   ]
  },
  {
   "cell_type": "code",
   "execution_count": 50,
   "id": "622aa2a8",
   "metadata": {},
   "outputs": [
    {
     "data": {
      "text/plain": [
       "0        12-25\n",
       "1      6.5-8.5\n",
       "2          400\n",
       "3          200\n",
       "4          100\n",
       "        ...   \n",
       "395         20\n",
       "396    125-350\n",
       "397        250\n",
       "398        250\n",
       "399         50\n",
       "Length: 400, dtype: object"
      ]
     },
     "execution_count": 50,
     "metadata": {},
     "output_type": "execute_result"
    }
   ],
   "source": [
    "WHO_standerds=pd.Series([\"12-25\",\"6.5-8.5\",\"400\",\"200\",\"100\",\"50\",\"20\",\"125-350\",\"250\",\"250\",\"50\",\"500-1000\",\"500\",\"0.3\",\"0.1-0.5\",\"0.01-3\",\"0.2\",\"0.01\",\"2\",\"0.003\",\"6.5-8.5\",\"400\",\"200\",\"100\",\"50\",\"20\",\"125-350\",\"250\",\"250\",\"50\",\"6.5-8.5\",\"400\",\"200\",\"100\",\"50\",\"20\",\"125-350\",\"250\",\"250\",\"50\",\"6.5-8.5\",\"400\",\"200\",\"100\",\"50\",\"20\",\"125-350\",\"250\",\"250\",\"50\",\"6.5-8.5\",\"400\",\"200\",\"100\",\"50\",\"20\",\"125-350\",\"250\",\"250\",\"50\",\"6.5-8.5\",\"400\",\"200\",\"100\",\"50\",\"20\",\"125-350\",\"250\",\"250\",\"50\",\"6.5-8.5\",\"400\",\"200\",\"100\",\"50\",\"20\",\"125-350\",\"250\",\"250\",\"50\",\"6.5-8.5\",\"400\",\"200\",\"100\",\"50\",\"20\",\"125-350\",\"250\",\"250\",\"50\",\"6.5-8.5\",\"400\",\"200\",\"100\",\"50\",\"20\",\"125-350\",\"250\",\"250\",\"50\",\"6.5-8.5\",\"400\",\"200\",\"100\",\"50\",\"20\",\"125-350\",\"250\",\"250\",\"50\",\"6.5-8.5\",\"400\",\"200\",\"100\",\"50\",\"20\",\"125-350\",\"250\",\"250\",\"50\",\"6.5-8.5\",\"400\",\"200\",\"100\",\"50\",\"20\",\"125-350\",\"250\",\"250\",\"50\",\"6.5-8.5\",\"400\",\"200\",\"100\",\"50\",\"20\",\"125-350\",\"250\",\"250\",\"50\",\"6.5-8.5\",\"400\",\"200\",\"100\",\"50\",\"20\",\"125-350\",\"250\",\"250\",\"50\",\"6.5-8.5\",\"400\",\"200\",\"100\",\"50\",\"20\",\"125-350\",\"250\",\"250\",\"50\",\"6.5-8.5\",\"400\",\"200\",\"100\",\"50\",\"20\",\"125-350\",\"250\",\"250\",\"50\",\"6.5-8.5\",\"400\",\"200\",\"100\",\"50\",\"20\",\"125-350\",\"250\",\"250\",\"50\",\"6.5-8.5\",\"400\",\"200\",\"100\",\"50\",\"20\",\"125-350\",\"250\",\"250\",\"50\",\"6.5-8.5\",\"400\",\"200\",\"100\",\"50\",\"20\",\"125-350\",\"250\",\"250\",\"50\",\"6.5-8.5\",\"400\",\"200\",\"100\",\"50\",\"20\",\"125-350\",\"250\",\"250\",\"50\",\"6.5-8.5\",\"400\",\"200\",\"100\",\"50\",\"20\",\"125-350\",\"250\",\"250\",\"50\",\"6.5-8.5\",\"400\",\"200\",\"100\",\"50\",\"20\",\"125-350\",\"250\",\"250\",\"50\",\"6.5-8.5\",\"400\",\"200\",\"100\",\"50\",\"20\",\"125-350\",\"250\",\"250\",\"50\",\"6.5-8.5\",\"400\",\"200\",\"100\",\"50\",\"20\",\"125-350\",\"250\",\"250\",\"50\",\"6.5-8.5\",\"400\",\"200\",\"100\",\"50\",\"20\",\"125-350\",\"250\",\"250\",\"50\",\"6.5-8.5\",\"400\",\"200\",\"100\",\"50\",\"20\",\"125-350\",\"250\",\"250\",\"50\",\"6.5-8.5\",\"400\",\"200\",\"100\",\"50\",\"20\",\"125-350\",\"250\",\"250\",\"50\",\"6.5-8.5\",\"400\",\"200\",\"100\",\"50\",\"20\",\"125-350\",\"250\",\"250\",\"50\",\"6.5-8.5\",\"400\",\"200\",\"100\",\"50\",\"20\",\"125-350\",\"250\",\"250\",\"50\",\"6.5-8.5\",\"400\",\"200\",\"100\",\"50\",\"20\",\"125-350\",\"250\",\"250\",\"50\",\"6.5-8.5\",\"400\",\"200\",\"100\",\"50\",\"20\",\"125-350\",\"250\",\"250\",\"50\",\"6.5-8.5\",\"400\",\"200\",\"100\",\"50\",\"20\",\"125-350\",\"250\",\"250\",\"50\",\"6.5-8.5\",\"400\",\"200\",\"100\",\"50\",\"20\",\"125-350\",\"250\",\"250\",\"50\",\"6.5-8.5\",\"400\",\"200\",\"100\",\"50\",\"20\",\"125-350\",\"250\",\"250\",\"50\",\"6.5-8.5\",\"400\",\"200\",\"100\",\"50\",\"20\",\"125-350\",\"250\",\"250\",\"50\",\"6.5-8.5\",\"400\",\"200\",\"100\",\"50\",\"20\",\"125-350\",\"250\",\"250\",\"50\",\"6.5-8.5\",\"400\",\"200\",\"100\",\"50\",\"20\",\"125-350\",\"250\",\"250\",\"50\",\"6.5-8.5\",\"400\",\"200\",\"100\",\"50\",\"20\",\"125-350\",\"250\",\"250\",\"50\",\"6.5-8.5\",\"400\",\"200\",\"100\",\"50\",\"20\",\"125-350\",\"250\",\"250\",\"50\"])\n",
    "WHO_standerds"
   ]
  },
  {
   "cell_type": "code",
   "execution_count": null,
   "id": "d8d1847b",
   "metadata": {},
   "outputs": [],
   "source": []
  },
  {
   "cell_type": "code",
   "execution_count": 58,
   "id": "065d967d",
   "metadata": {},
   "outputs": [
    {
     "data": {
      "text/plain": [
       "0                  Ph\n",
       "1           Turbidity\n",
       "2      Carbon_dioxide\n",
       "3            hardness\n",
       "4        Iron_content\n",
       "            ...      \n",
       "395         Turbidity\n",
       "396    Carbon_dioxide\n",
       "397          hardness\n",
       "398         Turbidity\n",
       "399    Carbon_dioxide\n",
       "Length: 400, dtype: object"
      ]
     },
     "execution_count": 58,
     "metadata": {},
     "output_type": "execute_result"
    }
   ],
   "source": [
    "Water_Quality=pd.Series([\"Ph\",\"Turbidity\",\"Carbon_dioxide\",\"hardness\",\"Iron_content\",\"Manganese\",\"Nitrate_Nitrogen\",\"Total_alkalinity\",\"Fluoride\",\"Cloride\",\"Arsenic\",\"Turbidity\",\"Carbon_dioxide\",\"hardness\",\"Iron_content\",\"Manganese\",\"Nitrate_Nitrogen\",\"Turbidity\",\"Carbon_dioxide\",\"hardness\",\"Iron_content\",\"Manganese\",\"Nitrate_Nitrogen\",\"Turbidity\",\"Carbon_dioxide\",\"hardness\",\"Iron_content\",\"Manganese\",\"Nitrate_Nitrogen\",\"Turbidity\",\"Carbon_dioxide\",\"hardness\",\"Iron_content\",\"Manganese\",\"Nitrate_Nitrogen\",\"Turbidity\",\"Carbon_dioxide\",\"hardness\",\"Iron_content\",\"Manganese\",\"Nitrate_Nitrogen\",\"Turbidity\",\"Carbon_dioxide\",\"hardness\",\"Iron_content\",\"Manganese\",\"Nitrate_Nitrogen\",\"Turbidity\",\"Carbon_dioxide\",\"hardness\",\"Iron_content\",\"Manganese\",\"Nitrate_Nitrogen\",\"Turbidity\",\"Carbon_dioxide\",\"hardness\",\"Iron_content\",\"Manganese\",\"Nitrate_Nitrogen\",\"Turbidity\",\"Carbon_dioxide\",\"hardness\",\"Iron_content\",\"Manganese\",\"Nitrate_Nitrogen\",\"Turbidity\",\"Carbon_dioxide\",\"hardness\",\"Iron_content\",\"Manganese\",\"Nitrate_Nitrogen\",\"Turbidity\",\"Carbon_dioxide\",\"hardness\",\"Iron_content\",\"Manganese\",\"Nitrate_Nitrogen\",\"Turbidity\",\"Carbon_dioxide\",\"hardness\",\"Iron_content\",\"Manganese\",\"Nitrate_Nitrogen\",\"Turbidity\",\"Carbon_dioxide\",\"hardness\",\"Iron_content\",\"Manganese\",\"Nitrate_Nitrogen\",\"Turbidity\",\"Carbon_dioxide\",\"hardness\",\"Iron_content\",\"Manganese\",\"Nitrate_Nitrogen\",\"Turbidity\",\"Carbon_dioxide\",\"hardness\",\"Iron_content\",\"Manganese\",\"Nitrate_Nitrogen\",\"Turbidity\",\"Carbon_dioxide\",\"hardness\",\"Iron_content\",\"Manganese\",\"Nitrate_Nitrogen\",\"Turbidity\",\"Carbon_dioxide\",\"hardness\",\"Iron_content\",\"Manganese\",\"Nitrate_Nitrogen\",\"Turbidity\",\"Carbon_dioxide\",\"hardness\",\"Turbidity\",\"Carbon_dioxide\",\"hardness\",\"Turbidity\",\"Carbon_dioxide\",\"hardness\",\"Turbidity\",\"Carbon_dioxide\",\"hardness\",\"Turbidity\",\"Carbon_dioxide\",\"hardness\",\"Turbidity\",\"Carbon_dioxide\",\"hardness\",\"Turbidity\",\"Carbon_dioxide\",\"hardness\",\"Turbidity\",\"Carbon_dioxide\",\"hardness\",\"Turbidity\",\"Carbon_dioxide\",\"hardness\",\"Turbidity\",\"Carbon_dioxide\",\"hardness\",\"Turbidity\",\"Carbon_dioxide\",\"hardness\",\"Turbidity\",\"Carbon_dioxide\",\"hardness\",\"Turbidity\",\"Carbon_dioxide\",\"hardness\",\"Turbidity\",\"Carbon_dioxide\",\"hardness\",\"Turbidity\",\"Carbon_dioxide\",\"hardness\",\"Turbidity\",\"Carbon_dioxide\",\"hardness\",\"Turbidity\",\"Carbon_dioxide\",\"hardness\",\"Turbidity\",\"Carbon_dioxide\",\"hardness\",\"Turbidity\",\"Carbon_dioxide\",\"hardness\",\"Turbidity\",\"Carbon_dioxide\",\"hardness\",\"Turbidity\",\"Carbon_dioxide\",\"hardness\",\"Turbidity\",\"Carbon_dioxide\",\"hardness\",\"Turbidity\",\"Carbon_dioxide\",\"hardness\",\"Turbidity\",\"Carbon_dioxide\",\"hardness\",\"Turbidity\",\"Carbon_dioxide\",\"hardness\",\"Turbidity\",\"Carbon_dioxide\",\"hardness\",\"Turbidity\",\"Carbon_dioxide\",\"hardness\",\"Turbidity\",\"Carbon_dioxide\",\"hardness\",\"Turbidity\",\"Carbon_dioxide\",\"hardness\",\"Turbidity\",\"Carbon_dioxide\",\"hardness\",\"Turbidity\",\"Carbon_dioxide\",\"hardness\",\"Turbidity\",\"Carbon_dioxide\",\"hardness\",\"Turbidity\",\"Carbon_dioxide\",\"hardness\",\"Turbidity\",\"Carbon_dioxide\",\"hardness\",\"Turbidity\",\"Carbon_dioxide\",\"hardness\",\"Turbidity\",\"Carbon_dioxide\",\"hardness\",\"Turbidity\",\"Carbon_dioxide\",\"hardness\",\"Turbidity\",\"Carbon_dioxide\",\"hardness\",\"Turbidity\",\"Carbon_dioxide\",\"hardness\",\"Turbidity\",\"Carbon_dioxide\",\"hardness\",\"Turbidity\",\"Carbon_dioxide\",\"hardness\",\"Turbidity\",\"Carbon_dioxide\",\"hardness\",\"Turbidity\",\"Carbon_dioxide\",\"hardness\",\"Turbidity\",\"Carbon_dioxide\",\"hardness\",\"Turbidity\",\"Carbon_dioxide\",\"hardness\",\"Turbidity\",\"Carbon_dioxide\",\"hardness\",\"Turbidity\",\"Carbon_dioxide\",\"hardness\",\"Turbidity\",\"Carbon_dioxide\",\"hardness\",\"Turbidity\",\"Carbon_dioxide\",\"hardness\",\"Turbidity\",\"Carbon_dioxide\",\"hardness\",\"Turbidity\",\"Carbon_dioxide\",\"hardness\",\"Turbidity\",\"Carbon_dioxide\",\"hardness\",\"Turbidity\",\"Carbon_dioxide\",\"hardness\",\"Turbidity\",\"Carbon_dioxide\",\"hardness\",\"Turbidity\",\"Carbon_dioxide\",\"hardness\",\"Turbidity\",\"Carbon_dioxide\",\"hardness\",\"Turbidity\",\"Carbon_dioxide\",\"hardness\",\"Turbidity\",\"Carbon_dioxide\",\"hardness\",\"Turbidity\",\"Carbon_dioxide\",\"hardness\",\"Turbidity\",\"Carbon_dioxide\",\"hardness\",\"Turbidity\",\"Carbon_dioxide\",\"hardness\",\"Turbidity\",\"Carbon_dioxide\",\"hardness\",\"Turbidity\",\"Carbon_dioxide\",\"hardness\",\"Turbidity\",\"Carbon_dioxide\",\"hardness\",\"Turbidity\",\"Carbon_dioxide\",\"hardness\",\"Turbidity\",\"Carbon_dioxide\",\"hardness\",\"Turbidity\",\"Carbon_dioxide\",\"hardness\",\"Turbidity\",\"Carbon_dioxide\",\"hardness\",\"Turbidity\",\"Carbon_dioxide\",\"hardness\",\"Turbidity\",\"Carbon_dioxide\",\"hardness\",\"Turbidity\",\"Carbon_dioxide\",\"hardness\",\"Turbidity\",\"Carbon_dioxide\",\"hardness\",\"Turbidity\",\"Carbon_dioxide\",\"hardness\",\"Turbidity\",\"Carbon_dioxide\",\"hardness\",\"Turbidity\",\"Carbon_dioxide\",\"hardness\",\"Turbidity\",\"Carbon_dioxide\",\"hardness\",\"Turbidity\",\"Carbon_dioxide\",\"hardness\",\"Turbidity\",\"Carbon_dioxide\",\"hardness\",\"Turbidity\",\"Carbon_dioxide\",\"hardness\",\"Turbidity\",\"Carbon_dioxide\",\"hardness\",\"Turbidity\",\"Carbon_dioxide\",\"hardness\",\"Turbidity\",\"Carbon_dioxide\",\"hardness\",\"Turbidity\",\"Carbon_dioxide\",\"hardness\",\"Turbidity\",\"Carbon_dioxide\",\"hardness\",\"Turbidity\",\"Carbon_dioxide\",\"hardness\",\"Turbidity\",\"Carbon_dioxide\",\"hardness\",\"Turbidity\",\"Carbon_dioxide\",\"hardness\",\"Turbidity\",\"Carbon_dioxide\",\"hardness\",\"Turbidity\",\"Carbon_dioxide\",\"hardness\",\"Turbidity\",\"Carbon_dioxide\",\"hardness\",\"Turbidity\",\"Carbon_dioxide\",\"hardness\",\"Turbidity\",\"Carbon_dioxide\",\"hardness\",\"Turbidity\",\"Carbon_dioxide\",\"hardness\",\"Turbidity\",\"Carbon_dioxide\",\"hardness\",\"Turbidity\",\"Carbon_dioxide\",\"hardness\",\"Turbidity\",\"Carbon_dioxide\"])\n",
    "Water_Quality                  "
   ]
  },
  {
   "cell_type": "code",
   "execution_count": null,
   "id": "e308e76d",
   "metadata": {},
   "outputs": [],
   "source": []
  },
  {
   "cell_type": "code",
   "execution_count": 60,
   "id": "fe0a61e5",
   "metadata": {},
   "outputs": [
    {
     "data": {
      "text/html": [
       "<div>\n",
       "<style scoped>\n",
       "    .dataframe tbody tr th:only-of-type {\n",
       "        vertical-align: middle;\n",
       "    }\n",
       "\n",
       "    .dataframe tbody tr th {\n",
       "        vertical-align: top;\n",
       "    }\n",
       "\n",
       "    .dataframe thead th {\n",
       "        text-align: right;\n",
       "    }\n",
       "</style>\n",
       "<table border=\"1\" class=\"dataframe\">\n",
       "  <thead>\n",
       "    <tr style=\"text-align: right;\">\n",
       "      <th></th>\n",
       "      <th>Paramters</th>\n",
       "      <th>Units</th>\n",
       "      <th>Jordanian_standards</th>\n",
       "      <th>WHO_standerds</th>\n",
       "      <th>Water_Quality</th>\n",
       "    </tr>\n",
       "  </thead>\n",
       "  <tbody>\n",
       "    <tr>\n",
       "      <th>0</th>\n",
       "      <td>T</td>\n",
       "      <td>*C</td>\n",
       "      <td>12-25</td>\n",
       "      <td>12-25</td>\n",
       "      <td>Ph</td>\n",
       "    </tr>\n",
       "    <tr>\n",
       "      <th>1</th>\n",
       "      <td>pH</td>\n",
       "      <td>es</td>\n",
       "      <td>6.50-9,0</td>\n",
       "      <td>6.5-8.5</td>\n",
       "      <td>Turbidity</td>\n",
       "    </tr>\n",
       "    <tr>\n",
       "      <th>2</th>\n",
       "      <td>EC</td>\n",
       "      <td>us/cm</td>\n",
       "      <td>22</td>\n",
       "      <td>400</td>\n",
       "      <td>Carbon_dioxide</td>\n",
       "    </tr>\n",
       "    <tr>\n",
       "      <th>3</th>\n",
       "      <td>Na+</td>\n",
       "      <td>mg/l</td>\n",
       "      <td>200-400</td>\n",
       "      <td>200</td>\n",
       "      <td>hardness</td>\n",
       "    </tr>\n",
       "    <tr>\n",
       "      <th>4</th>\n",
       "      <td>Ca2+</td>\n",
       "      <td>mg/l</td>\n",
       "      <td>75-200</td>\n",
       "      <td>100</td>\n",
       "      <td>Iron_content</td>\n",
       "    </tr>\n",
       "    <tr>\n",
       "      <th>...</th>\n",
       "      <td>...</td>\n",
       "      <td>...</td>\n",
       "      <td>...</td>\n",
       "      <td>...</td>\n",
       "      <td>...</td>\n",
       "    </tr>\n",
       "    <tr>\n",
       "      <th>395</th>\n",
       "      <td>Zn2+</td>\n",
       "      <td>mg/l</td>\n",
       "      <td>22</td>\n",
       "      <td>20</td>\n",
       "      <td>Turbidity</td>\n",
       "    </tr>\n",
       "    <tr>\n",
       "      <th>396</th>\n",
       "      <td>Al3+</td>\n",
       "      <td>mg/l</td>\n",
       "      <td>200-400</td>\n",
       "      <td>125-350</td>\n",
       "      <td>Carbon_dioxide</td>\n",
       "    </tr>\n",
       "    <tr>\n",
       "      <th>397</th>\n",
       "      <td>Pb2+</td>\n",
       "      <td>mg/l</td>\n",
       "      <td>75-200</td>\n",
       "      <td>250</td>\n",
       "      <td>hardness</td>\n",
       "    </tr>\n",
       "    <tr>\n",
       "      <th>398</th>\n",
       "      <td>Cu2+</td>\n",
       "      <td>mg/l</td>\n",
       "      <td>50-150</td>\n",
       "      <td>250</td>\n",
       "      <td>Turbidity</td>\n",
       "    </tr>\n",
       "    <tr>\n",
       "      <th>399</th>\n",
       "      <td>Cd2+</td>\n",
       "      <td>mg/l</td>\n",
       "      <td>10-50</td>\n",
       "      <td>50</td>\n",
       "      <td>Carbon_dioxide</td>\n",
       "    </tr>\n",
       "  </tbody>\n",
       "</table>\n",
       "<p>400 rows × 5 columns</p>\n",
       "</div>"
      ],
      "text/plain": [
       "    Paramters  Units Jordanian_standards WHO_standerds   Water_Quality\n",
       "0           T     *C               12-25         12-25              Ph\n",
       "1          pH     es            6.50-9,0       6.5-8.5       Turbidity\n",
       "2          EC  us/cm                  22           400  Carbon_dioxide\n",
       "3         Na+   mg/l             200-400           200        hardness\n",
       "4        Ca2+   mg/l              75-200           100    Iron_content\n",
       "..        ...    ...                 ...           ...             ...\n",
       "395      Zn2+   mg/l                  22            20       Turbidity\n",
       "396      Al3+   mg/l             200-400       125-350  Carbon_dioxide\n",
       "397      Pb2+   mg/l              75-200           250        hardness\n",
       "398      Cu2+   mg/l              50-150           250       Turbidity\n",
       "399      Cd2+   mg/l               10-50            50  Carbon_dioxide\n",
       "\n",
       "[400 rows x 5 columns]"
      ]
     },
     "execution_count": 60,
     "metadata": {},
     "output_type": "execute_result"
    }
   ],
   "source": [
    "water_quality=pd.DataFrame({\"Paramters\":Parameters,\"Units\":Units,\"Jordanian_standards\":Jordanian_standards,\"WHO_standerds\":WHO_standerds,\"Water_Quality\":Water_Quality})\n",
    "water_quality"
   ]
  },
  {
   "cell_type": "code",
   "execution_count": 63,
   "id": "a4e54b89",
   "metadata": {},
   "outputs": [
    {
     "data": {
      "text/html": [
       "<div>\n",
       "<style scoped>\n",
       "    .dataframe tbody tr th:only-of-type {\n",
       "        vertical-align: middle;\n",
       "    }\n",
       "\n",
       "    .dataframe tbody tr th {\n",
       "        vertical-align: top;\n",
       "    }\n",
       "\n",
       "    .dataframe thead th {\n",
       "        text-align: right;\n",
       "    }\n",
       "</style>\n",
       "<table border=\"1\" class=\"dataframe\">\n",
       "  <thead>\n",
       "    <tr style=\"text-align: right;\">\n",
       "      <th></th>\n",
       "      <th>Paramters</th>\n",
       "      <th>Units</th>\n",
       "      <th>Jordanian_standards</th>\n",
       "      <th>WHO_standerds</th>\n",
       "      <th>Water_Quality</th>\n",
       "    </tr>\n",
       "  </thead>\n",
       "  <tbody>\n",
       "    <tr>\n",
       "      <th>0</th>\n",
       "      <td>T</td>\n",
       "      <td>*C</td>\n",
       "      <td>12-25</td>\n",
       "      <td>12-25</td>\n",
       "      <td>Ph</td>\n",
       "    </tr>\n",
       "    <tr>\n",
       "      <th>1</th>\n",
       "      <td>pH</td>\n",
       "      <td>es</td>\n",
       "      <td>6.50-9,0</td>\n",
       "      <td>6.5-8.5</td>\n",
       "      <td>Turbidity</td>\n",
       "    </tr>\n",
       "    <tr>\n",
       "      <th>2</th>\n",
       "      <td>EC</td>\n",
       "      <td>us/cm</td>\n",
       "      <td>22</td>\n",
       "      <td>400</td>\n",
       "      <td>Carbon_dioxide</td>\n",
       "    </tr>\n",
       "    <tr>\n",
       "      <th>3</th>\n",
       "      <td>Na+</td>\n",
       "      <td>mg/l</td>\n",
       "      <td>200-400</td>\n",
       "      <td>200</td>\n",
       "      <td>hardness</td>\n",
       "    </tr>\n",
       "    <tr>\n",
       "      <th>4</th>\n",
       "      <td>Ca2+</td>\n",
       "      <td>mg/l</td>\n",
       "      <td>75-200</td>\n",
       "      <td>100</td>\n",
       "      <td>Iron_content</td>\n",
       "    </tr>\n",
       "  </tbody>\n",
       "</table>\n",
       "</div>"
      ],
      "text/plain": [
       "  Paramters  Units Jordanian_standards WHO_standerds   Water_Quality\n",
       "0         T     *C               12-25         12-25              Ph\n",
       "1        pH     es            6.50-9,0       6.5-8.5       Turbidity\n",
       "2        EC  us/cm                  22           400  Carbon_dioxide\n",
       "3       Na+   mg/l             200-400           200        hardness\n",
       "4      Ca2+   mg/l              75-200           100    Iron_content"
      ]
     },
     "execution_count": 63,
     "metadata": {},
     "output_type": "execute_result"
    }
   ],
   "source": [
    "water_quality.head(5)"
   ]
  },
  {
   "cell_type": "code",
   "execution_count": 64,
   "id": "168b1b18",
   "metadata": {},
   "outputs": [
    {
     "data": {
      "text/html": [
       "<div>\n",
       "<style scoped>\n",
       "    .dataframe tbody tr th:only-of-type {\n",
       "        vertical-align: middle;\n",
       "    }\n",
       "\n",
       "    .dataframe tbody tr th {\n",
       "        vertical-align: top;\n",
       "    }\n",
       "\n",
       "    .dataframe thead th {\n",
       "        text-align: right;\n",
       "    }\n",
       "</style>\n",
       "<table border=\"1\" class=\"dataframe\">\n",
       "  <thead>\n",
       "    <tr style=\"text-align: right;\">\n",
       "      <th></th>\n",
       "      <th>Paramters</th>\n",
       "      <th>Units</th>\n",
       "      <th>Jordanian_standards</th>\n",
       "      <th>WHO_standerds</th>\n",
       "      <th>Water_Quality</th>\n",
       "    </tr>\n",
       "  </thead>\n",
       "  <tbody>\n",
       "    <tr>\n",
       "      <th>392</th>\n",
       "      <td>TH</td>\n",
       "      <td>mg/l</td>\n",
       "      <td>50-150</td>\n",
       "      <td>200</td>\n",
       "      <td>Turbidity</td>\n",
       "    </tr>\n",
       "    <tr>\n",
       "      <th>393</th>\n",
       "      <td>Fe2+</td>\n",
       "      <td>mg/l</td>\n",
       "      <td>10-50</td>\n",
       "      <td>100</td>\n",
       "      <td>Carbon_dioxide</td>\n",
       "    </tr>\n",
       "    <tr>\n",
       "      <th>394</th>\n",
       "      <td>N2+</td>\n",
       "      <td>mg/l</td>\n",
       "      <td>6.50-9,0</td>\n",
       "      <td>50</td>\n",
       "      <td>hardness</td>\n",
       "    </tr>\n",
       "    <tr>\n",
       "      <th>395</th>\n",
       "      <td>Zn2+</td>\n",
       "      <td>mg/l</td>\n",
       "      <td>22</td>\n",
       "      <td>20</td>\n",
       "      <td>Turbidity</td>\n",
       "    </tr>\n",
       "    <tr>\n",
       "      <th>396</th>\n",
       "      <td>Al3+</td>\n",
       "      <td>mg/l</td>\n",
       "      <td>200-400</td>\n",
       "      <td>125-350</td>\n",
       "      <td>Carbon_dioxide</td>\n",
       "    </tr>\n",
       "    <tr>\n",
       "      <th>397</th>\n",
       "      <td>Pb2+</td>\n",
       "      <td>mg/l</td>\n",
       "      <td>75-200</td>\n",
       "      <td>250</td>\n",
       "      <td>hardness</td>\n",
       "    </tr>\n",
       "    <tr>\n",
       "      <th>398</th>\n",
       "      <td>Cu2+</td>\n",
       "      <td>mg/l</td>\n",
       "      <td>50-150</td>\n",
       "      <td>250</td>\n",
       "      <td>Turbidity</td>\n",
       "    </tr>\n",
       "    <tr>\n",
       "      <th>399</th>\n",
       "      <td>Cd2+</td>\n",
       "      <td>mg/l</td>\n",
       "      <td>10-50</td>\n",
       "      <td>50</td>\n",
       "      <td>Carbon_dioxide</td>\n",
       "    </tr>\n",
       "  </tbody>\n",
       "</table>\n",
       "</div>"
      ],
      "text/plain": [
       "    Paramters Units Jordanian_standards WHO_standerds   Water_Quality\n",
       "392        TH  mg/l              50-150           200       Turbidity\n",
       "393      Fe2+  mg/l               10-50           100  Carbon_dioxide\n",
       "394       N2+  mg/l            6.50-9,0            50        hardness\n",
       "395      Zn2+  mg/l                  22            20       Turbidity\n",
       "396      Al3+  mg/l             200-400       125-350  Carbon_dioxide\n",
       "397      Pb2+  mg/l              75-200           250        hardness\n",
       "398      Cu2+  mg/l              50-150           250       Turbidity\n",
       "399      Cd2+  mg/l               10-50            50  Carbon_dioxide"
      ]
     },
     "execution_count": 64,
     "metadata": {},
     "output_type": "execute_result"
    }
   ],
   "source": [
    "water_quality.tail(8)"
   ]
  },
  {
   "cell_type": "code",
   "execution_count": 1,
   "id": "646d82f3",
   "metadata": {},
   "outputs": [
    {
     "ename": "NameError",
     "evalue": "name 'water_quality' is not defined",
     "output_type": "error",
     "traceback": [
      "\u001b[1;31m---------------------------------------------------------------------------\u001b[0m",
      "\u001b[1;31mNameError\u001b[0m                                 Traceback (most recent call last)",
      "Cell \u001b[1;32mIn[1], line 1\u001b[0m\n\u001b[1;32m----> 1\u001b[0m water_quality\n",
      "\u001b[1;31mNameError\u001b[0m: name 'water_quality' is not defined"
     ]
    }
   ],
   "source": [
    "water_quality"
   ]
  },
  {
   "cell_type": "code",
   "execution_count": 2,
   "id": "88403b49",
   "metadata": {},
   "outputs": [
    {
     "ename": "NameError",
     "evalue": "name 'water_quality' is not defined",
     "output_type": "error",
     "traceback": [
      "\u001b[1;31m---------------------------------------------------------------------------\u001b[0m",
      "\u001b[1;31mNameError\u001b[0m                                 Traceback (most recent call last)",
      "Cell \u001b[1;32mIn[2], line 1\u001b[0m\n\u001b[1;32m----> 1\u001b[0m water_quality\u001b[38;5;241m.\u001b[39minfo()\n",
      "\u001b[1;31mNameError\u001b[0m: name 'water_quality' is not defined"
     ]
    }
   ],
   "source": [
    "water_quality.info()"
   ]
  },
  {
   "cell_type": "code",
   "execution_count": 2,
   "id": "be0ebf22",
   "metadata": {},
   "outputs": [
    {
     "ename": "NameError",
     "evalue": "name 'water_quality' is not defined",
     "output_type": "error",
     "traceback": [
      "\u001b[1;31m---------------------------------------------------------------------------\u001b[0m",
      "\u001b[1;31mNameError\u001b[0m                                 Traceback (most recent call last)",
      "Cell \u001b[1;32mIn[2], line 1\u001b[0m\n\u001b[1;32m----> 1\u001b[0m water_quality\u001b[38;5;241m.\u001b[39mcolumns\n",
      "\u001b[1;31mNameError\u001b[0m: name 'water_quality' is not defined"
     ]
    }
   ],
   "source": [
    "water_quality.columns\n"
   ]
  },
  {
   "cell_type": "code",
   "execution_count": null,
   "id": "f076424b",
   "metadata": {},
   "outputs": [],
   "source": [
    " Conclusion:\n",
    "In conclusion, this water mangement project stives to may a significant positive impact on th community\n",
    "and the environment by addression water related chalanges throgh holistic approach. By achiving our\n",
    "objectives and adhering to our mission.."
   ]
  }
 ],
 "metadata": {
  "kernelspec": {
   "display_name": "Python 3 (ipykernel)",
   "language": "python",
   "name": "python3"
  },
  "language_info": {
   "codemirror_mode": {
    "name": "ipython",
    "version": 3
   },
   "file_extension": ".py",
   "mimetype": "text/x-python",
   "name": "python",
   "nbconvert_exporter": "python",
   "pygments_lexer": "ipython3",
   "version": "3.11.4"
  }
 },
 "nbformat": 4,
 "nbformat_minor": 5
}
