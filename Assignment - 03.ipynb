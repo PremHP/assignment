{
 "cells": [
  {
   "cell_type": "code",
   "execution_count": 3,
   "id": "761ef4e7",
   "metadata": {},
   "outputs": [
    {
     "name": "stdout",
     "output_type": "stream",
     "text": [
      "Empty Array:\n",
      "[[0.00000000e+000 0.00000000e+000 0.00000000e+000]\n",
      " [0.00000000e+000 0.00000000e+000 6.52166653e-321]\n",
      " [6.01346930e-154 7.26606878e+223 1.10639944e+200]]\n",
      "\n",
      "Full Array:\n",
      "[[7 7 7]\n",
      " [7 7 7]\n",
      " [7 7 7]]\n"
     ]
    }
   ],
   "source": [
    "#CREATINING A EMPTY AND FULL NUMPY ARRAY:-\n",
    "import numpy as np\n",
    "\n",
    "# Create an empty numpy array\n",
    "empty_array = np.empty((3, 3))  \n",
    "\n",
    "# Create a full numpy array with a specific value\n",
    "full_array = np.full((3, 3), 7)  \n",
    "\n",
    "print(\"Empty Array:\")\n",
    "print(empty_array)\n",
    "\n",
    "print(\"\\nFull Array:\")\n",
    "print(full_array)\n"
   ]
  },
  {
   "cell_type": "raw",
   "id": "8f96ac57",
   "metadata": {},
   "source": [
    "#\n",
    "\n",
    "# Create a sample numpy array with mixed data types\n",
    "data = np.array([[1, 2, 3],\n",
    "                 [4, 'six', 6],\n",
    "                 [7, 8, 9],\n",
    "                 ['ten', 'eleven',\"one\"]])\n",
    "\n",
    "# Function to check if a value is numeric\n",
    "def is_numeric(value):\n",
    "    try:\n",
    "        float(value)\n",
    "        return True\n",
    "    except (ValueError, TypeError):\n",
    "        return False\n",
    "\n",
    "# Apply the is_numeric function to each element of the array\n",
    "numeric_mask = np.vectorize(is_numeric)(data)\n",
    "\n",
    "# Use boolean indexing to select only rows containing numeric values\n",
    "numeric_rows = data[numeric_mask.all(axis=1)]\n",
    "\n",
    "print(\"Original Array:\")\n",
    "print(data)\n",
    "\n",
    "print(\"\\nArray with Non-Numeric Rows Removed:\")\n",
    "print(numeric_rows)\n"
   ]
  },
  {
   "cell_type": "code",
   "execution_count": null,
   "id": "f8b8543a",
   "metadata": {},
   "outputs": [],
   "source": []
  },
  {
   "cell_type": "code",
   "execution_count": 3,
   "id": "d35f5323",
   "metadata": {},
   "outputs": [
    {
     "name": "stdout",
     "output_type": "stream",
     "text": [
      "Original Array:\n",
      "[['1' '2' '3']\n",
      " ['4' 'five' '6']\n",
      " ['7' '8' '9']\n",
      " ['ten' 'eleven' 'twelve']]\n",
      "\n",
      "Array with Non-Numeric Rows Removed:\n",
      "[['1' '2' '3']\n",
      " ['7' '8' '9']]\n"
     ]
    }
   ],
   "source": [
    "    #REMOVING A ROWS IN NUMPY ARRAY THAT CONTAINS NON NUMARIC VALUES:\n",
    "\n",
    "    # Create a sample numpy array with mixed data types\n",
    "    data = np.array([[1, 2, 3],\n",
    "                     [4, 'five', 6],\n",
    "                     [7, 8, 9],\n",
    "                     ['ten', 'eleven', 'twelve']])\n",
    "\n",
    "    # Function to check if a value is numeric\n",
    "    def is_numeric(value):\n",
    "        try:\n",
    "            float(value)\n",
    "            return True\n",
    "        except (ValueError, TypeError):\n",
    "            return False\n",
    "\n",
    "    # Apply the is_numeric function to each element of the array\n",
    "    numeric_mask = np.vectorize(is_numeric)(data)\n",
    "\n",
    "    # Use boolean indexing to select only rows containing numeric values\n",
    "    numeric_rows = data[numeric_mask.all(axis=1)]\n",
    "\n",
    "    print(\"Original Array:\")\n",
    "    print(data)\n",
    "\n",
    "    print(\"\\nArray with Non-Numeric Rows Removed:\")\n",
    "    print(numeric_rows)\n"
   ]
  },
  {
   "cell_type": "code",
   "execution_count": 4,
   "id": "ffeb3fdb",
   "metadata": {},
   "outputs": [
    {
     "name": "stdout",
     "output_type": "stream",
     "text": [
      "Number of occurrences of [1 2 3 4]: 2\n"
     ]
    }
   ],
   "source": [
    "#Finding the number of occurrences of a sequence in a NumPy array\n",
    "\n",
    "\n",
    "# Create a sample numpy array\n",
    "arr = np.array([1, 2, 3, 4, 1, 2, 3, 4, 1, 2, 3])\n",
    "\n",
    "# Define the sequence you want to find\n",
    "sequence_to_find = np.array([1, 2, 3,4])\n",
    "\n",
    "# Initialize a count variable to keep track of occurrences\n",
    "count = 0\n",
    "\n",
    "# Loop through the array and search for the sequence\n",
    "for i in range(len(arr) - len(sequence_to_find) + 1):\n",
    "    if np.array_equal(arr[i:i+len(sequence_to_find)], sequence_to_find):\n",
    "        count += 1\n",
    "\n",
    "print(f\"Number of occurrences of {sequence_to_find}: {count}\")\n"
   ]
  },
  {
   "cell_type": "code",
   "execution_count": 5,
   "id": "4e92112b",
   "metadata": {},
   "outputs": [
    {
     "name": "stdout",
     "output_type": "stream",
     "text": [
      "Array 1: [1 2 3]\n",
      "Array 2: [4 5 6]\n",
      "Sum os array 1 and arra 2 is: [5 7 9]\n"
     ]
    }
   ],
   "source": [
    "#FINDING A SUM OF TWO ARRAYS:-\n",
    "\n",
    "# Create two sample numpy arrays\n",
    "array1 = np.array([1, 2, 3])\n",
    "array2 = np.array([4, 5, 6])\n",
    "\n",
    "# Calculate the element-wise sum of the two arrays\n",
    "result_array = array1 + array2\n",
    "\n",
    "print(\"Array 1:\", array1)\n",
    "print(\"Array 2:\", array2)\n",
    "print(\"Sum os array 1 and arra 2 is:\",result_array)\n"
   ]
  },
  {
   "cell_type": "code",
   "execution_count": 6,
   "id": "828395ec",
   "metadata": {},
   "outputs": [
    {
     "name": "stdout",
     "output_type": "stream",
     "text": [
      "Indices where the condition is satisfied: (array([5, 6, 7, 8], dtype=int64),)\n"
     ]
    }
   ],
   "source": [
    "#RETURNS THE INDICIES OF ELEMENTS WHERE THE GIVEN CONDITION IN SATISFIED:-\n",
    "\n",
    "# Create a sample numpy array\n",
    "arr = np.array([1, 2, 3, 4, 5, 6, 7, 8, 9])\n",
    "\n",
    "condition = arr > 5\n",
    "\n",
    "# Use boolean indexing to get the indices where the condition is satisfied\n",
    "indices = np.where(condition)\n",
    "\n",
    "# Print the indices\n",
    "print(\"Indices where the condition is satisfied:\", indices)\n"
   ]
  },
  {
   "cell_type": "code",
   "execution_count": 7,
   "id": "b48f975f",
   "metadata": {},
   "outputs": [
    {
     "name": "stdout",
     "output_type": "stream",
     "text": [
      "Original Matrix:\n",
      "[[1 2 3]\n",
      " [4 5 6]\n",
      " [7 8 9]]\n",
      "\n",
      "Matrix after Multiplication by Scalar:\n",
      "[[ 2  4  6]\n",
      " [ 8 10 12]\n",
      " [14 16 18]]\n"
     ]
    }
   ],
   "source": [
    "#MULTIPLICATION WITH SCALAR:-\n",
    "\n",
    "\n",
    "# Create a sample numpy matrix \n",
    "matrix = np.array([[1, 2, 3],\n",
    "                   [4, 5, 6],\n",
    "                   [7, 8, 9]])\n",
    "\n",
    "# Define the scalar you want to multiply the matrix by\n",
    "scalar = 2\n",
    "\n",
    "# Multiply the matrix by the scalar using the * operator\n",
    "result_matrix = matrix * scalar\n",
    "\n",
    "print(\"Original Matrix:\")\n",
    "print(matrix)\n",
    "\n",
    "print(\"\\nMatrix after Multiplication by Scalar:\")\n",
    "print(result_matrix)\n"
   ]
  },
  {
   "cell_type": "code",
   "execution_count": 8,
   "id": "e020bb96",
   "metadata": {},
   "outputs": [
    {
     "name": "stdout",
     "output_type": "stream",
     "text": [
      "Original Array:\n",
      "[[2.5  3.8  1.5 ]\n",
      " [4.7  2.9  1.56]]\n",
      "\n",
      "Reshaped Array:\n",
      "[[2.5  3.8 ]\n",
      " [1.5  4.7 ]\n",
      " [2.9  1.56]]\n"
     ]
    }
   ],
   "source": [
    "#Array re-dimensioning of giving data:-\n",
    "import numpy as np\n",
    "\n",
    "# Given numpy array\n",
    "a = np.array([[2.5, 3.8, 1.5],\n",
    "              [4.7, 2.9, 1.56]])\n",
    "\n",
    "# Reshape the array to the desired shape \n",
    "new_shape = (3, 2)\n",
    "reshaped_array = a.reshape(new_shape)\n",
    "\n",
    "print(\"Original Array:\")\n",
    "print(a)\n",
    "\n",
    "print(\"\\nReshaped Array:\")\n",
    "print(reshaped_array)\n"
   ]
  },
  {
   "cell_type": "code",
   "execution_count": 9,
   "id": "ec0f8354",
   "metadata": {},
   "outputs": [
    {
     "name": "stdout",
     "output_type": "stream",
     "text": [
      "Binary Array:\n",
      "[[1 0 0]\n",
      " [1 1 1]\n",
      " [0 0 0]]\n",
      "\n",
      "Boolean Array:\n",
      "[[ True False False]\n",
      " [ True  True  True]\n",
      " [False False False]]\n"
     ]
    }
   ],
   "source": [
    "#Obtaining Boolean Array from Binary Array of given data:\n",
    "\n",
    "\n",
    "# Given binary array\n",
    "a = np.array([[1, 0, 0],\n",
    "              [1, 1, 1],\n",
    "              [0, 0, 0]])\n",
    "\n",
    "# Create a boolean array based on the binary array\n",
    "boolean_array = a.astype(bool)\n",
    "\n",
    "print(\"Binary Array:\")\n",
    "print(a)\n",
    "\n",
    "print(\"\\nBoolean Array:\")\n",
    "print(boolean_array)\n"
   ]
  },
  {
   "cell_type": "code",
   "execution_count": 10,
   "id": "e8012c2d",
   "metadata": {},
   "outputs": [
    {
     "name": "stdout",
     "output_type": "stream",
     "text": [
      "Array 1:\n",
      "[[1 2]\n",
      " [3 4]]\n",
      "\n",
      "Array 2:\n",
      "[[5 6]\n",
      " [7 8]]\n",
      "\n",
      "Horizontally Stacked Array:\n",
      "[[1 2 5 6]\n",
      " [3 4 7 8]]\n"
     ]
    }
   ],
   "source": [
    "#HORIZONTAL STACKING OF NUMPY ARRAY:-\n",
    "# Create two sample numpy arrays\n",
    "array1 = np.array([[1, 2],\n",
    "                   [3, 4]])\n",
    "\n",
    "array2 = np.array([[5, 6],\n",
    "                   [7, 8]])\n",
    "\n",
    "# Horizontally stack the arrays\n",
    "stacked_array = np.hstack((array1, array2))\n",
    "\n",
    "print(\"Array 1:\")\n",
    "print(array1)\n",
    "\n",
    "print(\"\\nArray 2:\")\n",
    "print(array2)\n",
    "\n",
    "print(\"\\nHorizontally Stacked Array:\")\n",
    "print(stacked_array)\n"
   ]
  },
  {
   "cell_type": "code",
   "execution_count": 11,
   "id": "32da78e1",
   "metadata": {},
   "outputs": [
    {
     "name": "stdout",
     "output_type": "stream",
     "text": [
      "Random Integer Array:\n",
      "[[9 6 2 7]\n",
      " [6 8 3 7]\n",
      " [4 6 8 9]]\n"
     ]
    }
   ],
   "source": [
    "#ARRAY GENERATION OF RANDOM INTEGERS:-\n",
    "\n",
    "\n",
    "\n",
    "low_range = 1 \n",
    "high_range = 10  \n",
    "array_size = (3, 4)  \n",
    "\n",
    "\n",
    "random_integers = np.random.randint(low_range, high_range, size=array_size)\n",
    "\n",
    "print(\"Random Integer Array:\")\n",
    "print(random_integers)\n"
   ]
  },
  {
   "cell_type": "code",
   "execution_count": 13,
   "id": "87e2b71a",
   "metadata": {},
   "outputs": [
    {
     "name": "stdout",
     "output_type": "stream",
     "text": [
      "After Multiplication:\n",
      " [[ 2  6 12]\n",
      " [20 30 42]\n",
      " [56 72 90]]\n"
     ]
    }
   ],
   "source": [
    "#MULTIPLICATION OF ARRAY:\n",
    "a = np.array([[1,2,3],\n",
    "              [4,5,6],\n",
    "              [7,8,9]])\n",
    "\n",
    "b = np.array([[2,3,4],\n",
    "              [5,6,7],\n",
    "              [8,9,10]])\n",
    "c=a*b\n",
    "print(\"After Multiplication:\\n\",c)"
   ]
  },
  {
   "cell_type": "code",
   "execution_count": 1,
   "id": "5f71b7d8",
   "metadata": {},
   "outputs": [
    {
     "data": {
      "text/plain": [
       "'hii'"
      ]
     },
     "execution_count": 1,
     "metadata": {},
     "output_type": "execute_result"
    }
   ],
   "source": [
    "\"hii\""
   ]
  },
  {
   "cell_type": "code",
   "execution_count": 2,
   "id": "201f0698",
   "metadata": {},
   "outputs": [
    {
     "name": "stdout",
     "output_type": "stream",
     "text": [
      "sum is: 9\n"
     ]
    }
   ],
   "source": [
    "a=4\n",
    "b=5\n",
    "c=a+b\n",
    "print(\"sum is:\",c)"
   ]
  },
  {
   "cell_type": "code",
   "execution_count": null,
   "id": "95185a3b",
   "metadata": {},
   "outputs": [],
   "source": []
  }
 ],
 "metadata": {
  "kernelspec": {
   "display_name": "Python 3 (ipykernel)",
   "language": "python",
   "name": "python3"
  },
  "language_info": {
   "codemirror_mode": {
    "name": "ipython",
    "version": 3
   },
   "file_extension": ".py",
   "mimetype": "text/x-python",
   "name": "python",
   "nbconvert_exporter": "python",
   "pygments_lexer": "ipython3",
   "version": "3.11.4"
  }
 },
 "nbformat": 4,
 "nbformat_minor": 5
}
